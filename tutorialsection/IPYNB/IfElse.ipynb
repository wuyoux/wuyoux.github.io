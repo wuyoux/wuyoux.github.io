{
 "cells": [
  {
   "cell_type": "code",
   "execution_count": 28,
   "metadata": {},
   "outputs": [
    {
     "name": "stdout",
     "output_type": "stream",
     "text": [
      "x is greater than or equal to 10\n"
     ]
    }
   ],
   "source": [
    "x = 10\n",
    "if x<5:\n",
    "    print('x is less than 5')\n",
    "elif x<10:\n",
    "    print('x is less than 10')\n",
    "else:\n",
    "    print('x is greater than or equal to 10')"
   ]
  },
  {
   "cell_type": "code",
   "execution_count": 29,
   "metadata": {},
   "outputs": [
    {
     "name": "stdout",
     "output_type": "stream",
     "text": [
      "10\n"
     ]
    }
   ],
   "source": [
    "x = 10\n",
    "if x>=10:\n",
    "    print(x)"
   ]
  },
  {
   "cell_type": "code",
   "execution_count": 30,
   "metadata": {},
   "outputs": [
    {
     "name": "stdout",
     "output_type": "stream",
     "text": [
      "Glass is in a\n",
      "Glass is not in b\n"
     ]
    }
   ],
   "source": [
    "a = 'This is a string with the word glass in it'\n",
    "b = 'This is just a string'\n",
    "\n",
    "if 'glass' in a:\n",
    "    print('Glass is in a')\n",
    "else:\n",
    "    print('Glass is not in a')\n",
    "    \n",
    "if 'glass' in b:\n",
    "    print('Glass is in b')\n",
    "else:\n",
    "    print('Glass is not in b')"
   ]
  },
  {
   "cell_type": "code",
   "execution_count": null,
   "metadata": {},
   "outputs": [],
   "source": []
  }
 ],
 "metadata": {
  "kernelspec": {
   "display_name": "Python 3",
   "language": "python",
   "name": "python3"
  },
  "language_info": {
   "codemirror_mode": {
    "name": "ipython",
    "version": 3
   },
   "file_extension": ".py",
   "mimetype": "text/x-python",
   "name": "python",
   "nbconvert_exporter": "python",
   "pygments_lexer": "ipython3",
   "version": "3.7.4"
  }
 },
 "nbformat": 4,
 "nbformat_minor": 2
}
